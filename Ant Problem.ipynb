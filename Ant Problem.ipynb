{
 "cells": [
  {
   "cell_type": "markdown",
   "metadata": {},
   "source": [
    "# Ant problem : Question 1"
   ]
  },
  {
   "cell_type": "code",
   "execution_count": 12,
   "metadata": {},
   "outputs": [
    {
     "name": "stdout",
     "output_type": "stream",
     "text": [
      "Average time:4.501302 seconds\n"
     ]
    }
   ],
   "source": [
    "def random_walk():\n",
    "    x, y = 0, 0\n",
    "    time = 0\n",
    "    while abs(x) != 20 and abs(y) != 20:  \n",
    "        dx, dy = random.choice([(1, 0), (-1, 0), (0, 1), (0, -1)])\n",
    "        x += dx*10\n",
    "        y += dy*10\n",
    "        time += 1\n",
    "    return time\n",
    "\n",
    "\n",
    "N = 1000000  # number of simulations\n",
    "total_time = 0\n",
    "\n",
    "for i in range(N):\n",
    "    total_time += random_walk()\n",
    "\n",
    "average_time = total_time/N\n",
    "\n",
    "print(f\"Average time:{average_time} seconds\")\n",
    "\n",
    "    "
   ]
  },
  {
   "cell_type": "markdown",
   "metadata": {},
   "source": [
    "# Ant problem : Question 2"
   ]
  },
  {
   "cell_type": "code",
   "execution_count": null,
   "metadata": {},
   "outputs": [],
   "source": [
    "---\n",
    "\n",
    "The food board not being closed and simply represented by a line, there is a probability that the ant never reaches the line ()\n",
    "\n",
    "\n",
    "--- "
   ]
  },
  {
   "cell_type": "markdown",
   "metadata": {},
   "source": [
    "# Ant problem : Question 3"
   ]
  },
  {
   "cell_type": "code",
   "execution_count": 13,
   "metadata": {},
   "outputs": [
    {
     "name": "stdout",
     "output_type": "stream",
     "text": [
      "Average time:14.009954 seconds\n"
     ]
    }
   ],
   "source": [
    "import random\n",
    "\n",
    "def is_outside_ellipse(x, y):\n",
    "    return ((x - 2.5) / 30)**2 + ((y - 2.5) / 40)**2 >= 1\n",
    "\n",
    "def random_walk_boundary():\n",
    "    x, y = 0, 0\n",
    "    time = 0\n",
    "    \n",
    "    while not is_outside_ellipse(x, y):\n",
    "        dx, dy = random.choice([(10, 0), (-10, 0), (0, 10), (0, -10)])\n",
    "        x += dx\n",
    "        y += dy\n",
    "        time += 1\n",
    "\n",
    "    return time\n",
    "\n",
    "N = 1000000  \n",
    "total_time = 0\n",
    "\n",
    "for i in range(N):\n",
    "    total_time += random_walk_boundary()\n",
    "\n",
    "average_time = total_time / N\n",
    "print(f\"Average time:{average_time} seconds\")\n"
   ]
  }
 ],
 "metadata": {
  "kernelspec": {
   "display_name": "Python 3",
   "language": "python",
   "name": "python3"
  },
  "language_info": {
   "codemirror_mode": {
    "name": "ipython",
    "version": 3
   },
   "file_extension": ".py",
   "mimetype": "text/x-python",
   "name": "python",
   "nbconvert_exporter": "python",
   "pygments_lexer": "ipython3",
   "version": "3.8.6"
  }
 },
 "nbformat": 4,
 "nbformat_minor": 4
}
